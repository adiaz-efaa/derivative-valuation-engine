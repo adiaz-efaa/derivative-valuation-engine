{
 "cells": [
  {
   "cell_type": "markdown",
   "metadata": {},
   "source": [
    "# Prueba Fixed Rate Bond "
   ]
  },
  {
   "cell_type": "code",
   "execution_count": 1,
   "metadata": {},
   "outputs": [],
   "source": [
    "import QC_Financial as qcf"
   ]
  },
  {
   "cell_type": "code",
   "execution_count": 2,
   "metadata": {},
   "outputs": [],
   "source": [
    "start_date = qcf.QCDate(1, 3, 2018)\n",
    "end_date = qcf.QCDate(1, 3, 2023)"
   ]
  },
  {
   "cell_type": "code",
   "execution_count": 3,
   "metadata": {},
   "outputs": [],
   "source": [
    "end_date_adj = qcf.BusyAdjRules.NO"
   ]
  },
  {
   "cell_type": "code",
   "execution_count": 4,
   "metadata": {},
   "outputs": [],
   "source": [
    "periodicity = qcf.Tenor('6M')"
   ]
  },
  {
   "cell_type": "code",
   "execution_count": 5,
   "metadata": {},
   "outputs": [],
   "source": [
    "stub_period = qcf.StubPeriod.NO"
   ]
  },
  {
   "cell_type": "code",
   "execution_count": 6,
   "metadata": {},
   "outputs": [],
   "source": [
    "calendar = qcf.BusinessCalendar(start_date, 20)"
   ]
  },
  {
   "cell_type": "code",
   "execution_count": 7,
   "metadata": {},
   "outputs": [
    {
     "name": "stdout",
     "output_type": "stream",
     "text": [
      "2018-05-02\n"
     ]
    }
   ],
   "source": [
    "feriado = qcf.QCDate(1, 5, 2018)\n",
    "calendar.add_holiday(feriado)\n",
    "f = calendar.shift(feriado, 1)\n",
    "print f.description(False)"
   ]
  },
  {
   "cell_type": "code",
   "execution_count": 8,
   "metadata": {},
   "outputs": [],
   "source": [
    "yf = qcf.QC30360()\n",
    "wf = qcf.QCLinearWf()"
   ]
  },
  {
   "cell_type": "code",
   "execution_count": 9,
   "metadata": {},
   "outputs": [],
   "source": [
    "rate = qcf.QCInterestRate(.04, yf, wf)"
   ]
  },
  {
   "cell_type": "code",
   "execution_count": 11,
   "metadata": {},
   "outputs": [],
   "source": [
    "fixed_rate_leg = qcf.LegFactory.build_bullet_fixed_rate_leg(qcf.RecPay.RECEIVE,\n",
    "                                                           start_date,\n",
    "                                                           end_date,\n",
    "                                                           end_date_adj,\n",
    "                                                           periodicity,\n",
    "                                                           stub_period,\n",
    "                                                           calendar,\n",
    "                                                           0,\n",
    "                                                           100,\n",
    "                                                           True,\n",
    "                                                           rate,\n",
    "                                                           qcf.QCCLP(),\n",
    "                                                           True)"
   ]
  },
  {
   "cell_type": "code",
   "execution_count": 12,
   "metadata": {},
   "outputs": [
    {
     "name": "stdout",
     "output_type": "stream",
     "text": [
      "('2018-03-01', '2018-09-01', '2018-09-01', 100.0, 0.0, 2.0000000000000018, True, 2.0000000000000018, 'CLP', 0.04, 'Lin30360')\n",
      "('2018-09-01', '2019-03-01', '2019-03-01', 100.0, 0.0, 2.0000000000000018, True, 2.0000000000000018, 'CLP', 0.04, 'Lin30360')\n",
      "('2019-03-01', '2019-09-01', '2019-09-01', 100.0, 0.0, 2.0000000000000018, True, 2.0000000000000018, 'CLP', 0.04, 'Lin30360')\n",
      "('2019-09-01', '2020-03-01', '2020-03-01', 100.0, 0.0, 2.0000000000000018, True, 2.0000000000000018, 'CLP', 0.04, 'Lin30360')\n",
      "('2020-03-01', '2020-09-01', '2020-09-01', 100.0, 0.0, 2.0000000000000018, True, 2.0000000000000018, 'CLP', 0.04, 'Lin30360')\n",
      "('2020-09-01', '2021-03-01', '2021-03-01', 100.0, 0.0, 2.0000000000000018, True, 2.0000000000000018, 'CLP', 0.04, 'Lin30360')\n",
      "('2021-03-01', '2021-09-01', '2021-09-01', 100.0, 0.0, 2.0000000000000018, True, 2.0000000000000018, 'CLP', 0.04, 'Lin30360')\n",
      "('2021-09-01', '2022-03-01', '2022-03-01', 100.0, 0.0, 2.0000000000000018, True, 2.0000000000000018, 'CLP', 0.04, 'Lin30360')\n",
      "('2022-03-01', '2022-09-01', '2022-09-01', 100.0, 0.0, 2.0000000000000018, True, 2.0000000000000018, 'CLP', 0.04, 'Lin30360')\n",
      "('2022-09-01', '2023-03-01', '2023-03-01', 100.0, 100.0, 2.0000000000000018, True, 102.0, 'CLP', 0.04, 'Lin30360')\n",
      "<class 'QC_Financial.FixedRateCashflow'>\n",
      "<class 'QC_Financial.FixedRateCashflow'>\n",
      "<class 'QC_Financial.FixedRateCashflow'>\n",
      "<class 'QC_Financial.FixedRateCashflow'>\n",
      "<class 'QC_Financial.FixedRateCashflow'>\n",
      "<class 'QC_Financial.FixedRateCashflow'>\n",
      "<class 'QC_Financial.FixedRateCashflow'>\n",
      "<class 'QC_Financial.FixedRateCashflow'>\n",
      "<class 'QC_Financial.FixedRateCashflow'>\n",
      "<class 'QC_Financial.FixedRateCashflow'>\n"
     ]
    }
   ],
   "source": [
    "for i in range(0, fixed_rate_leg.size()):\n",
    "    print qcf.show(fixed_rate_leg.get_cashflow_at(i))\n",
    "    \n",
    "for i in range(0, fixed_rate_leg.size()):\n",
    "    print type(fixed_rate_leg.get_cashflow_at(i))"
   ]
  },
  {
   "cell_type": "code",
   "execution_count": null,
   "metadata": {},
   "outputs": [],
   "source": [
    "bono_gringo = qcf.FixedRateBond(fixed_rate_leg)\n",
    "print bono_gringo"
   ]
  },
  {
   "cell_type": "code",
   "execution_count": null,
   "metadata": {},
   "outputs": [],
   "source": [
    "fecha_devengo = qcf.QCDate(14, 6, 2018)"
   ]
  },
  {
   "cell_type": "code",
   "execution_count": null,
   "metadata": {},
   "outputs": [],
   "source": [
    "bono_gringo.accrued_interest(fecha_devengo)"
   ]
  },
  {
   "cell_type": "code",
   "execution_count": null,
   "metadata": {},
   "outputs": [],
   "source": [
    "yield_yf = qcf.QCAct365()\n",
    "yield_wf = qcf.QCCompoundWf()\n",
    "mkt_yield = qcf.QCInterestRate(.04, yield_yf, yield_wf)\n",
    "bono_gringo.present_value(fecha_devengo, mkt_yield)"
   ]
  },
  {
   "cell_type": "code",
   "execution_count": null,
   "metadata": {},
   "outputs": [],
   "source": [
    "bono_gringo.price(fecha_devengo, mkt_yield)"
   ]
  },
  {
   "cell_type": "code",
   "execution_count": null,
   "metadata": {},
   "outputs": [],
   "source": [
    "# Check price\n",
    "101.30124483837196 - 1.1444444444444368"
   ]
  },
  {
   "cell_type": "code",
   "execution_count": null,
   "metadata": {},
   "outputs": [],
   "source": [
    "bono_gringo.duracion()"
   ]
  },
  {
   "cell_type": "code",
   "execution_count": null,
   "metadata": {},
   "outputs": [],
   "source": [
    "bono_gringo.convexidad()"
   ]
  },
  {
   "cell_type": "code",
   "execution_count": null,
   "metadata": {},
   "outputs": [],
   "source": [
    "# Definición de TERA\n",
    "tera_yf = qcf.QCAct365()\n",
    "tera_wf = qcf.QCCompoundWf()\n",
    "tera_valor = 0.040373\n",
    "tera = qcf.QCInterestRate(tera_valor, tera_yf, tera_wf)"
   ]
  },
  {
   "cell_type": "code",
   "execution_count": null,
   "metadata": {},
   "outputs": [],
   "source": [
    "BTP0400323 = qcf.ChileanFixedRateBond(fixed_rate_leg, tera)"
   ]
  },
  {
   "cell_type": "code",
   "execution_count": null,
   "metadata": {},
   "outputs": [],
   "source": [
    "valor_par = BTP0400323.valor_par(fecha_devengo)\n",
    "print round(valor_par * 100) / 100"
   ]
  },
  {
   "cell_type": "code",
   "execution_count": null,
   "metadata": {},
   "outputs": [],
   "source": [
    "# Define TIR de mercado\n",
    "tir_valor = 0.041\n",
    "ytm = qcf.QCInterestRate(tir_valor, tera_yf, tera_wf) # ytm = yield to maturity (TIR a vencimiento)\n",
    "\n",
    "# Define fecha de valorización\n",
    "fecha_valorizacion = qcf.QCDate(14, 6, 2018)"
   ]
  },
  {
   "cell_type": "code",
   "execution_count": null,
   "metadata": {},
   "outputs": [],
   "source": [
    "pres_val = qcf.PresentValue()"
   ]
  },
  {
   "cell_type": "code",
   "execution_count": null,
   "metadata": {},
   "outputs": [],
   "source": [
    "valor_pres = pres_val.pv(fecha_valorizacion, fixed_rate_leg, ytm)\n",
    "print valor_pres"
   ]
  },
  {
   "cell_type": "code",
   "execution_count": null,
   "metadata": {},
   "outputs": [],
   "source": [
    "precio = BTP0400323.precio(fecha_devengo, ytm)\n",
    "print round(precio * 10000) / 100"
   ]
  },
  {
   "cell_type": "code",
   "execution_count": null,
   "metadata": {},
   "outputs": [],
   "source": [
    "moneda = qcf.QCCLP()"
   ]
  },
  {
   "cell_type": "code",
   "execution_count": null,
   "metadata": {},
   "outputs": [],
   "source": [
    "# Esto es el valor presente que debemos calcular en Front Desk\n",
    "monto = BTP0400323.valor_pago(1000000, moneda, fecha_devengo, ytm)\n",
    "print monto"
   ]
  },
  {
   "cell_type": "code",
   "execution_count": null,
   "metadata": {},
   "outputs": [],
   "source": [
    "duracion = BTP0400323.duracion()\n",
    "print round(duracion * 100) / 100"
   ]
  },
  {
   "cell_type": "code",
   "execution_count": null,
   "metadata": {},
   "outputs": [],
   "source": [
    "convexidad = BTP0400323.convexidad()\n",
    "print round(convexidad * 100) / 100"
   ]
  },
  {
   "cell_type": "code",
   "execution_count": null,
   "metadata": {},
   "outputs": [],
   "source": [
    "from IPython.display import Image\n",
    "Image(\"RiskAmerica_1.png\")"
   ]
  },
  {
   "cell_type": "code",
   "execution_count": null,
   "metadata": {},
   "outputs": [],
   "source": [
    "# Ejemplo para construir una pata fija a partir de cashflows\n",
    "cashflow_data = [['2018-03-01', '2018-09-01', 100.0, 0.0, 2.0, 'CLP'],\n",
    "                 ['2018-09-01', '2019-03-01', 100.0, 0.0, 2.0, 'CLP'],\n",
    "                 ['2019-03-01', '2019-09-01', 100.0, 0.0, 2.0, 'CLP'],\n",
    "                 ['2019-09-01', '2020-03-01', 100.0, 0.0, 2.0, 'CLP'],\n",
    "                 ['2020-03-01', '2020-09-01', 100.0, 0.0, 2.0, 'CLP'],\n",
    "                 ['2020-09-01', '2021-03-01', 100.0, 0.0, 2.0, 'CLP'],\n",
    "                 ['2021-03-01', '2021-09-01', 100.0, 0.0, 2.0, 'CLP'],\n",
    "                 ['2021-09-01', '2022-03-01', 100.0, 0.0, 2.0, 'CLP'],\n",
    "                 ['2022-03-01', '2022-09-01', 100.0, 0.0, 2.0, 'CLP'],\n",
    "                 ['2022-09-01', '2023-03-01', 100.0, 100.0, 2.0, 'CLP']]\n",
    "\n",
    "# Se construye la pata\n",
    "fixed_rate_leg = qcf.Leg()\n",
    "for cashflow in cashflow_data:\n",
    "    fecha_inicio = qcf.build_qcdate_from_string(cashflow[0])\n",
    "    fecha_final = qcf.build_qcdate_from_string(cashflow[1])\n",
    "    nominal = cashflow[2]\n",
    "    amortizacion = cashflow[3]\n",
    "    fixed_rate_cashflow = qcf.FixedRateCashflow(fecha_inicio, fecha_final, fecha_final, nominal, amortizacion,\n",
    "                                                True, rate, qcf.QCCLP())\n",
    "    fixed_rate_leg.append_cashflow(fixed_rate_cashflow)\n",
    "    \n",
    "\n",
    "# Se muestra la pata \n",
    "for i in range(0, fixed_rate_leg.size()):\n",
    "    print qcf.show(fixed_rate_leg.get_cashflow_at(i))"
   ]
  },
  {
   "cell_type": "code",
   "execution_count": null,
   "metadata": {},
   "outputs": [],
   "source": [
    "BTP0400323.get_leg().size()"
   ]
  },
  {
   "cell_type": "code",
   "execution_count": null,
   "metadata": {},
   "outputs": [],
   "source": [
    "leg = BTP0400323.get_leg()"
   ]
  },
  {
   "cell_type": "code",
   "execution_count": null,
   "metadata": {},
   "outputs": [],
   "source": [
    "cshflw = leg.get_cashflow_at(9)"
   ]
  },
  {
   "cell_type": "code",
   "execution_count": null,
   "metadata": {},
   "outputs": [],
   "source": [
    "print cshflw.get_end_date()"
   ]
  }
 ],
 "metadata": {
  "kernelspec": {
   "display_name": "Python 2",
   "language": "python",
   "name": "python2"
  },
  "language_info": {
   "codemirror_mode": {
    "name": "ipython",
    "version": 2
   },
   "file_extension": ".py",
   "mimetype": "text/x-python",
   "name": "python",
   "nbconvert_exporter": "python",
   "pygments_lexer": "ipython2",
   "version": "2.7.15"
  }
 },
 "nbformat": 4,
 "nbformat_minor": 2
}
