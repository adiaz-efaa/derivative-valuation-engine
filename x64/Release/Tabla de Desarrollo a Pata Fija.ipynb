{
 "cells": [
  {
   "cell_type": "markdown",
   "metadata": {},
   "source": [
    "# Aumentar Tabla de Desarrollo de un Bono"
   ]
  },
  {
   "cell_type": "code",
   "execution_count": 1,
   "metadata": {},
   "outputs": [],
   "source": [
    "import QC_Financial as qcf\n",
    "from collections import namedtuple"
   ]
  },
  {
   "cell_type": "code",
   "execution_count": 9,
   "metadata": {},
   "outputs": [],
   "source": [
    "start_date = qcf.QCDate(1,1,1969)\n",
    "end_date = qcf.QCDate(2,1,1969)\n",
    "other_date = qcf.QCDate(3,1,1969)"
   ]
  },
  {
   "cell_type": "code",
   "execution_count": 7,
   "metadata": {},
   "outputs": [],
   "source": [
    "dictio = {start_date:'a', end_date:'b'}"
   ]
  },
  {
   "cell_type": "code",
   "execution_count": 10,
   "metadata": {},
   "outputs": [
    {
     "ename": "KeyError",
     "evalue": "<QC_Financial.QCDate object at 0x00000000050B9408>",
     "output_type": "error",
     "traceback": [
      "\u001b[1;31m---------------------------------------------------------------------------\u001b[0m",
      "\u001b[1;31mKeyError\u001b[0m                                  Traceback (most recent call last)",
      "\u001b[1;32m<ipython-input-10-ec3e64657ab7>\u001b[0m in \u001b[0;36m<module>\u001b[1;34m()\u001b[0m\n\u001b[1;32m----> 1\u001b[1;33m \u001b[0mdictio\u001b[0m\u001b[1;33m[\u001b[0m\u001b[0mother_date\u001b[0m\u001b[1;33m]\u001b[0m\u001b[1;33m\u001b[0m\u001b[0m\n\u001b[0m",
      "\u001b[1;31mKeyError\u001b[0m: <QC_Financial.QCDate object at 0x00000000050B9408>"
     ]
    }
   ],
   "source": [
    "dictio[other_date]"
   ]
  },
  {
   "cell_type": "code",
   "execution_count": 2,
   "metadata": {},
   "outputs": [],
   "source": [
    "person = namedtuple('person', 'nombre apellido')"
   ]
  },
  {
   "cell_type": "code",
   "execution_count": 10,
   "metadata": {},
   "outputs": [],
   "source": [
    "key = '12344321&00123456'"
   ]
  },
  {
   "cell_type": "code",
   "execution_count": 11,
   "metadata": {},
   "outputs": [
    {
     "name": "stdout",
     "output_type": "stream",
     "text": [
      "12344321\n",
      "00123456\n"
     ]
    }
   ],
   "source": [
    "pos = key.find('&')\n",
    "print key[0:pos]\n",
    "print key[pos + 1:]"
   ]
  },
  {
   "cell_type": "code",
   "execution_count": 2,
   "metadata": {},
   "outputs": [],
   "source": [
    "tabla = [('bono', '2018-01-01', '2018-07-01', 100, 0, 1),\n",
    "         ('bono', '2018-07-01', '2019-01-01', 100, 0, 1),\n",
    "         ('bono', '2019-01-01', '2019-07-01', 100, 0, 1),\n",
    "         ('bono', '2019-07-01', '2020-01-01', 100, 100, 1)]"
   ]
  },
  {
   "cell_type": "code",
   "execution_count": 3,
   "metadata": {},
   "outputs": [],
   "source": [
    "fecha_proceso = qcf.QCDate(29, 6, 2018)\n",
    "qcf.build_qcdate_from_string"
   ]
  },
  {
   "cell_type": "code",
   "execution_count": 4,
   "metadata": {},
   "outputs": [],
   "source": [
    "calendario = qcf.BusinessCalendar(fecha_proceso, 20)"
   ]
  },
  {
   "cell_type": "code",
   "execution_count": 5,
   "metadata": {},
   "outputs": [
    {
     "data": {
      "text/plain": [
       "0"
      ]
     },
     "execution_count": 5,
     "metadata": {},
     "output_type": "execute_result"
    }
   ],
   "source": [
    "settlement_lag = qcf.Tenor('0D')\n",
    "settlement_lag.get_days()"
   ]
  },
  {
   "cell_type": "code",
   "execution_count": 6,
   "metadata": {},
   "outputs": [
    {
     "data": {
      "text/plain": [
       "0"
      ]
     },
     "execution_count": 6,
     "metadata": {},
     "output_type": "execute_result"
    }
   ],
   "source": [
    "fixing_lag = qcf.Tenor('0D')\n",
    "fixing_lag.get_days()"
   ]
  },
  {
   "cell_type": "code",
   "execution_count": 7,
   "metadata": {},
   "outputs": [],
   "source": [
    "yf = qcf.QC30360()\n",
    "wf = qcf.QCLinearWf()\n",
    "coupon = qcf.QCInterestRate(.05, yf, wf)"
   ]
  },
  {
   "cell_type": "code",
   "execution_count": 8,
   "metadata": {},
   "outputs": [],
   "source": [
    "bono = qcf.Leg()\n",
    "for t in tabla:\n",
    "    start_date = qcf.build_qcdate_from_string(t[1])\n",
    "    end_date = qcf.build_qcdate_from_string(t[2])\n",
    "    settlement_date = calendario.next_busy_day(end_date.add_days(settlement_lag.get_days()))\n",
    "    nominal = float(t[3])\n",
    "    amortization = float(t[4])\n",
    "    does_amortize = True\n",
    "    notional_currency = qcf.QCCLF()\n",
    "    fx_rate_fixing_date = calendario.prev_busy_day(end_date.add_days(-fixing_lag.get_days()))\n",
    "    settlement_currency = qcf.QCCLP()\n",
    "    fx_rate = qcf.FXRate(qcf.QCCLF(), qcf.QCCLP())\n",
    "    fx_rate_code = 'UF'\n",
    "    fixing_rule = qcf.Tenor('0D')\n",
    "    value_rule = qcf.Tenor('0D')\n",
    "    fx_rate_index = qcf.FXRateIndex(fx_rate, fx_rate_code, fixing_rule, value_rule, calendario)\n",
    "    fx_rate_index_value = 10000\n",
    "    cashflow = qcf.FixedRateMultiCurrencyCashflow(start_date,\n",
    "                                                  end_date,\n",
    "                                                  settlement_date,\n",
    "                                                  nominal,\n",
    "                                                  amortization,\n",
    "                                                  does_amortize,\n",
    "                                                  coupon,\n",
    "                                                  notional_currency,\n",
    "                                                  fx_rate_fixing_date,\n",
    "                                                  settlement_currency,\n",
    "                                                  fx_rate_index,\n",
    "                                                  fx_rate_index_value)\n",
    "    bono.append_cashflow(cashflow)"
   ]
  },
  {
   "cell_type": "code",
   "execution_count": 9,
   "metadata": {},
   "outputs": [
    {
     "name": "stdout",
     "output_type": "stream",
     "text": [
      "('2018-01-01', '2018-07-01', '2018-07-02', 100.0, 0.0, 2.499999999999991, True, 24999.999999999913, 'CLF', 0.05, 'Lin30360', '2018-06-29', 'CLP', 'UF', 10000.0, 0.0, 24999.999999999913)\n",
      "('2018-07-01', '2019-01-01', '2019-01-02', 100.0, 0.0, 2.499999999999991, True, 24999.999999999913, 'CLF', 0.05, 'Lin30360', '2018-12-31', 'CLP', 'UF', 10000.0, 0.0, 24999.999999999913)\n",
      "('2019-01-01', '2019-07-01', '2019-07-01', 100.0, 0.0, 2.499999999999991, True, 24999.999999999913, 'CLF', 0.05, 'Lin30360', '2019-07-01', 'CLP', 'UF', 10000.0, 0.0, 24999.999999999913)\n",
      "('2019-07-01', '2020-01-01', '2020-01-02', 100.0, 100.0, 2.499999999999991, True, 1024999.9999999999, 'CLF', 0.05, 'Lin30360', '2019-12-31', 'CLP', 'UF', 10000.0, 1000000.0, 24999.999999999913)\n"
     ]
    }
   ],
   "source": [
    "for i in range(0, bono.size()):\n",
    "    print qcf.show(bono.get_cashflow_at(i))"
   ]
  },
  {
   "cell_type": "code",
   "execution_count": 10,
   "metadata": {},
   "outputs": [
    {
     "name": "stdout",
     "output_type": "stream",
     "text": [
      "<class 'QC_Financial.FixedRateMultiCurrencyCashflow'>\n"
     ]
    }
   ],
   "source": [
    "print type(bono.get_cashflow_at(0))"
   ]
  }
 ],
 "metadata": {
  "kernelspec": {
   "display_name": "Python 2",
   "language": "python",
   "name": "python2"
  },
  "language_info": {
   "codemirror_mode": {
    "name": "ipython",
    "version": 2
   },
   "file_extension": ".py",
   "mimetype": "text/x-python",
   "name": "python",
   "nbconvert_exporter": "python",
   "pygments_lexer": "ipython2",
   "version": "2.7.15"
  }
 },
 "nbformat": 4,
 "nbformat_minor": 2
}
