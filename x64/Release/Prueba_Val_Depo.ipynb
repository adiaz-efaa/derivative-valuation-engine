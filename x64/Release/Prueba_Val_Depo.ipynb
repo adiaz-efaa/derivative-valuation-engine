{
 "cells": [
  {
   "cell_type": "markdown",
   "metadata": {},
   "source": [
    "# Prueba Valorización Depósitos a Plazo"
   ]
  },
  {
   "cell_type": "code",
   "execution_count": 1,
   "metadata": {},
   "outputs": [],
   "source": [
    "import QC_Financial as qcf"
   ]
  },
  {
   "cell_type": "markdown",
   "metadata": {},
   "source": [
    "Un depósito a plazo en CLP o USD se modela como un simple cashflow. Este a su vez se construye con un monto, una fecha y una moneda."
   ]
  },
  {
   "cell_type": "code",
   "execution_count": 2,
   "metadata": {},
   "outputs": [],
   "source": [
    "# Con estas variables vamos a construir\n",
    "fecha_vcto = qcf.QCDate(12, 1, 2019)\n",
    "monto = 10000000.0\n",
    "clp = qcf.QCCLP()\n",
    "\n",
    "# Se construye el depósito\n",
    "depo = qcf.SimpleCashflow(fecha_vcto, monto, clp)"
   ]
  },
  {
   "cell_type": "code",
   "execution_count": 3,
   "metadata": {},
   "outputs": [
    {
     "name": "stdout",
     "output_type": "stream",
     "text": [
      "10000000.0\n",
      "12-1-2019\n"
     ]
    }
   ],
   "source": [
    "# Chequeo\n",
    "print depo.amount()\n",
    "print depo.date()"
   ]
  },
  {
   "cell_type": "code",
   "execution_count": 4,
   "metadata": {},
   "outputs": [],
   "source": [
    "# Ahora damos de alta una curva. Construimos un vector de plazos (enteros) y \n",
    "# un vector de tasas (flotantes).\n",
    "\n",
    "plazos = qcf.long_vec()\n",
    "tasas = qcf.double_vec()\n",
    "for i in range(0, 12):\n",
    "    plazos.append(30 + i * 30)\n",
    "    tasas.append(.001 + i * .002)\n",
    "\n",
    "crv = qcf.QCCurve(plazos, tasas)"
   ]
  },
  {
   "cell_type": "code",
   "execution_count": 5,
   "metadata": {},
   "outputs": [
    {
     "name": "stdout",
     "output_type": "stream",
     "text": [
      "30 0.001\n",
      "60 0.003\n",
      "90 0.005\n",
      "120 0.007\n",
      "150 0.009\n",
      "180 0.011\n",
      "210 0.013\n",
      "240 0.015\n",
      "270 0.017\n",
      "300 0.019\n",
      "330 0.021\n",
      "360 0.023\n"
     ]
    }
   ],
   "source": [
    "# Chequeo\n",
    "for i in range(0, 12):\n",
    "    print crv.get_values_at(i).tenor, crv.get_values_at(i).value"
   ]
  },
  {
   "cell_type": "code",
   "execution_count": 6,
   "metadata": {},
   "outputs": [],
   "source": [
    "# A la curva le vamos a agregar un interpolador (lineal)\n",
    "crv_lin = qcf.QCLinearInterpolator(crv)"
   ]
  },
  {
   "cell_type": "code",
   "execution_count": 7,
   "metadata": {},
   "outputs": [
    {
     "data": {
      "text/plain": [
       "0.023"
      ]
     },
     "execution_count": 7,
     "metadata": {},
     "output_type": "execute_result"
    }
   ],
   "source": [
    "# Chequeo\n",
    "crv_lin.interpolate_at(370)"
   ]
  },
  {
   "cell_type": "code",
   "execution_count": 8,
   "metadata": {},
   "outputs": [],
   "source": [
    "# Se establece la convención de las tasas para finalmente construir una curva cero cupón.\n",
    "# El valor de la tasa es irrelevante, sólo nos interesan las convenciones.\n",
    "yf = qcf.QCAct30()\n",
    "wf = qcf.QCLinearWf()\n",
    "tasa = qcf.QCInterestRate(0.0, yf, wf)"
   ]
  },
  {
   "cell_type": "code",
   "execution_count": 9,
   "metadata": {},
   "outputs": [],
   "source": [
    "# Se construye la curva definitiva\n",
    "z_crv_lin = qcf.ZeroCouponCurve(crv_lin, tasa)"
   ]
  },
  {
   "cell_type": "code",
   "execution_count": 10,
   "metadata": {},
   "outputs": [
    {
     "name": "stdout",
     "output_type": "stream",
     "text": [
      "0.001\n",
      "0.999600159936\n",
      "check df: 0.999600159936\n"
     ]
    }
   ],
   "source": [
    "# Chequeo\n",
    "plazo = 12\n",
    "tasa = z_crv_lin.get_rate_at(plazo)\n",
    "print tasa\n",
    "print z_crv_lin.get_discount_factor_at(plazo)\n",
    "print \"check df:\", 1 / (1 + tasa * plazo / 30)"
   ]
  },
  {
   "cell_type": "code",
   "execution_count": 19,
   "metadata": {},
   "outputs": [
    {
     "name": "stdout",
     "output_type": "stream",
     "text": [
      "0.023\n",
      "0.77901843677\n",
      "0.77901843677\n"
     ]
    }
   ],
   "source": [
    "# Nuevo método\n",
    "qc_rate = z_crv_lin.get_qc_interest_rate_at(370)\n",
    "print qc_rate.get_value()\n",
    "print 1/qc_rate.wf(370)\n",
    "print z_crv_lin.get_discount_factor_at(370)"
   ]
  },
  {
   "cell_type": "code",
   "execution_count": null,
   "metadata": {},
   "outputs": [],
   "source": [
    "# Se construye un objeto PresentValue para valorizar\n",
    "valorizador = qcf.PresentValue()"
   ]
  },
  {
   "cell_type": "code",
   "execution_count": null,
   "metadata": {},
   "outputs": [],
   "source": [
    "# Valorizamos el depo.\n",
    "# Establecemos la fecha de valorización\n",
    "fecha_val = qcf.QCDate(31, 12, 2018)\n",
    "\n",
    "# Calculamos el valor\n",
    "valor = valorizador.pv(fecha_val, depo, z_crv_lin)\n",
    "print \"valor:\", valor\n",
    "print \"check:\", 10000000.0 * 0.999600159936\n",
    "\n",
    "# Tenemos también las derivadas\n",
    "for d in valorizador.get_derivatives():\n",
    "    print d * .0001"
   ]
  }
 ],
 "metadata": {
  "kernelspec": {
   "display_name": "Python 2",
   "language": "python",
   "name": "python2"
  },
  "language_info": {
   "codemirror_mode": {
    "name": "ipython",
    "version": 2
   },
   "file_extension": ".py",
   "mimetype": "text/x-python",
   "name": "python",
   "nbconvert_exporter": "python",
   "pygments_lexer": "ipython2",
   "version": "2.7.15"
  }
 },
 "nbformat": 4,
 "nbformat_minor": 2
}
